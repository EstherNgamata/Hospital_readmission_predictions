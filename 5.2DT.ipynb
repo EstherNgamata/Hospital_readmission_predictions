{
 "cells": [
  {
   "cell_type": "markdown",
   "id": "9da758c7-2a17-4c5d-99f7-570df9131a61",
   "metadata": {},
   "source": [
    "# Data Modelling\n",
    "***"
   ]
  },
  {
   "cell_type": "markdown",
   "id": "26e1ff74-2bd1-40c3-877b-f8a90f372ce6",
   "metadata": {},
   "source": [
    "### Classification Problem Algorithm:\n",
    "#### Decision Trees"
   ]
  },
  {
   "cell_type": "code",
   "execution_count": 3,
   "id": "b06dee14-bb47-4015-bb35-cabc846c2bd0",
   "metadata": {},
   "outputs": [],
   "source": [
    "import numpy as np\n",
    "import pandas as pd\n",
    "import seaborn as sns\n",
    "import matplotlib.pyplot as plt\n",
    "\n",
    "from sklearn.metrics import accuracy_score, precision_score, recall_score, f1_score, roc_auc_score, confusion_matrix, classification_report, roc_curve, auc\n",
    "\n",
    "from imblearn.over_sampling import SMOTE\n",
    "\n",
    "from imblearn.pipeline import Pipeline\n",
    "\n",
    "from sklearn.model_selection import cross_val_score\n",
    "\n",
    "from sklearn.model_selection import RandomizedSearchCV\n",
    "\n",
    "from sklearn.model_selection import train_test_split\n",
    "from collections import Counter\n",
    "\n",
    "from sklearn.tree import DecisionTreeClassifier"
   ]
  },
  {
   "cell_type": "code",
   "execution_count": 4,
   "id": "154bb77f-009c-435a-b03b-d6a8b39416a7",
   "metadata": {},
   "outputs": [],
   "source": [
    "df = pd.read_csv('diabetes_encoded.csv')"
   ]
  },
  {
   "cell_type": "code",
   "execution_count": 5,
   "id": "ecbf9296-b7b7-4d24-b4df-afa16e6b9713",
   "metadata": {},
   "outputs": [],
   "source": [
    "df.set_index('encounter_id', inplace=True)\n",
    "y = df['readmitted']\n",
    "X = df.drop('readmitted', axis=1)"
   ]
  },
  {
   "cell_type": "code",
   "execution_count": 6,
   "id": "92891f50-190f-4fc8-aac3-448197120b46",
   "metadata": {},
   "outputs": [
    {
     "name": "stdout",
     "output_type": "stream",
     "text": [
      "Original training dataset shape Counter({0: 43912, 1: 37500})\n",
      "Original testing dataset shape Counter({0: 10952, 1: 9402})\n"
     ]
    }
   ],
   "source": [
    "# Split data\n",
    "X_train, X_test, y_train, y_test = train_test_split(X, y, train_size=0.8, random_state=42)\n",
    "print('Original training dataset shape {}'.format(Counter(y_train)))\n",
    "print('Original testing dataset shape {}'.format(Counter(y_test)))"
   ]
  },
  {
   "cell_type": "code",
   "execution_count": 7,
   "id": "154f397b-8bbe-40d0-937b-4f9490421c6a",
   "metadata": {},
   "outputs": [
    {
     "name": "stdout",
     "output_type": "stream",
     "text": [
      "Baseline Model Accuracy: 0.6126\n",
      "Classification Report:\n",
      "              precision    recall  f1-score   support\n",
      "\n",
      "           0       0.61      0.76      0.68     10952\n",
      "           1       0.61      0.44      0.51      9402\n",
      "\n",
      "    accuracy                           0.61     20354\n",
      "   macro avg       0.61      0.60      0.60     20354\n",
      "weighted avg       0.61      0.61      0.60     20354\n",
      "\n"
     ]
    }
   ],
   "source": [
    "# Initialize the decision tree classifier with very shallow tree by setting the max_depth parameter to 1\n",
    "baseline_model = DecisionTreeClassifier(max_depth=1, random_state=42)\n",
    "# Train the model\n",
    "baseline_model.fit(X_train, y_train)\n",
    "# Predict on the test set\n",
    "y_pred = baseline_model.predict(X_test)\n",
    "# Evaluate the model\n",
    "accuracy = accuracy_score(y_test, y_pred)\n",
    "report = classification_report(y_test, y_pred)\n",
    "\n",
    "print(f'Baseline Model Accuracy: {accuracy:.4f}')\n",
    "print('Classification Report:')\n",
    "print(report)"
   ]
  },
  {
   "cell_type": "code",
   "execution_count": 8,
   "id": "03e32804-17b7-4b8b-b732-0b5f29294729",
   "metadata": {},
   "outputs": [
    {
     "name": "stdout",
     "output_type": "stream",
     "text": [
      "Baseline Model Accuracy (shallowest tree) with SMOTE: 0.6125577282106711\n",
      "Baseline Model Precision with SMOTE: 0.6110460005859947\n",
      "Baseline Model Recall with SMOTE: 0.44362901510316954\n",
      "Baseline Model F1 Score with SMOTE: 0.5140497904855805\n",
      "readmitted\n",
      "0    54864\n",
      "1    46902\n",
      "Name: count, dtype: int64\n"
     ]
    }
   ],
   "source": [
    "# handle class imbalance\n",
    "# Initialize SMOTE and baseline model\n",
    "smote = SMOTE(random_state=42)\n",
    "baseline_model_smote = DecisionTreeClassifier(max_depth=1, random_state=42)\n",
    "\n",
    "# Create pipeline\n",
    "pipeline = Pipeline([\n",
    "    ('smote', smote),\n",
    "    ('classifier', baseline_model_smote)\n",
    "])\n",
    "\n",
    "# Train the model\n",
    "pipeline.fit(X_train, y_train)\n",
    "\n",
    "# Predict and evaluate Dummy Classifier\n",
    "y_pred_base_smote = pipeline.predict(X_test)\n",
    "base_accuracy_smote = accuracy_score(y_test, y_pred_base_smote)\n",
    "print(f'Baseline Model Accuracy (shallowest tree) with SMOTE: {base_accuracy_smote}')\n",
    "\n",
    "base_precision_smote = precision_score(y_test, y_pred_base_smote, average='binary')\n",
    "base_recall_smote = recall_score(y_test, y_pred_base_smote, average='binary')\n",
    "base_f1_smote = f1_score(y_test, y_pred_base_smote, average='binary')\n",
    "\n",
    "print(f'Baseline Model Precision with SMOTE: {base_precision_smote}')\n",
    "print(f'Baseline Model Recall with SMOTE: {base_recall_smote}')\n",
    "print(f'Baseline Model F1 Score with SMOTE: {base_f1_smote}')\n",
    "\n",
    "print(y.value_counts())"
   ]
  },
  {
   "cell_type": "code",
   "execution_count": 9,
   "id": "650cb719-7853-42c4-bd14-461fea002a41",
   "metadata": {},
   "outputs": [
    {
     "name": "stdout",
     "output_type": "stream",
     "text": [
      "Decision Tree Model Accuracy: 0.6126\n",
      "Classification Report:\n",
      "              precision    recall  f1-score   support\n",
      "\n",
      "           0       0.61      0.76      0.68     10952\n",
      "           1       0.61      0.44      0.51      9402\n",
      "\n",
      "    accuracy                           0.61     20354\n",
      "   macro avg       0.61      0.60      0.60     20354\n",
      "weighted avg       0.61      0.61      0.60     20354\n",
      "\n"
     ]
    }
   ],
   "source": [
    "# Initialize the decision tree classifier with default settings\n",
    "dT_model = DecisionTreeClassifier(random_state=42)\n",
    "# Train the model\n",
    "dT_model.fit(X_train, y_train)\n",
    "# Predict on the test set\n",
    "y_pred_dT = dT_model.predict(X_test)\n",
    "# Evaluate the model\n",
    "accuracy_dT = accuracy_score(y_test, y_pred)\n",
    "report_dT = classification_report(y_test, y_pred)\n",
    "\n",
    "print(f'Decision Tree Model Accuracy: {accuracy_dT:.4f}')\n",
    "print('Classification Report:')\n",
    "print(report_dT)"
   ]
  },
  {
   "cell_type": "markdown",
   "id": "50024314-9609-41f0-aced-f02359af44ba",
   "metadata": {},
   "source": [
    "Scaling the data using a standard scaler to see if any improvement"
   ]
  },
  {
   "cell_type": "code",
   "execution_count": 11,
   "id": "88fe64bd-02b5-4f3b-aaf3-deb77bf79327",
   "metadata": {},
   "outputs": [
    {
     "name": "stdout",
     "output_type": "stream",
     "text": [
      "Decision Tree Accuracy: 0.6125577282106711\n",
      "Decision Tree Accuracy after scaling: 0.570256460646556\n"
     ]
    }
   ],
   "source": [
    "from sklearn.preprocessing import StandardScaler\n",
    "# Initialize the scaler\n",
    "scaler = StandardScaler()\n",
    "\n",
    "# Fit and transform the training data\n",
    "X_train_scaled = scaler.fit_transform(X_train)\n",
    "\n",
    "# Transform the test data\n",
    "X_test_scaled = scaler.transform(X_test)\n",
    "\n",
    "# Train the model\n",
    "dT_model_scaled = DecisionTreeClassifier(random_state=42)\n",
    "dT_model_scaled.fit(X_train_scaled, y_train)\n",
    "\n",
    "# Predict and evaluate\n",
    "y_pred_scaled = dT_model_scaled.predict(X_test_scaled)\n",
    "dT_scaled_accuracy = accuracy_score(y_test, y_pred_scaled)\n",
    "print(f'Decision Tree Accuracy: {accuracy_dT}')\n",
    "print(f'Decision Tree Accuracy after scaling: {dT_scaled_accuracy}')"
   ]
  },
  {
   "cell_type": "code",
   "execution_count": 12,
   "id": "d534fd81-adef-48fd-8eb4-68734204e19e",
   "metadata": {},
   "outputs": [
    {
     "name": "stdout",
     "output_type": "stream",
     "text": [
      "Cross-Validation Scores: [0.56052864 0.55677296 0.55328453 0.56429028 0.55618336]\n",
      "Average Cross-Validation Accuracy after scaling: 0.5582119537302311\n"
     ]
    }
   ],
   "source": [
    "# Cross-Validation\n",
    "scores = cross_val_score(dT_model_scaled, X, y, cv=5, scoring='accuracy')\n",
    "print(f'Cross-Validation Scores: {scores}')\n",
    "print(f'Average Cross-Validation Accuracy after scaling: {scores.mean()}')"
   ]
  },
  {
   "cell_type": "code",
   "execution_count": 13,
   "id": "8215ec90-fdf3-4dd4-a878-20ae0926ec10",
   "metadata": {},
   "outputs": [
    {
     "name": "stdout",
     "output_type": "stream",
     "text": [
      "Cross-Validation Scores: [0.56052864 0.55677296 0.55328453 0.56429028 0.55618336]\n",
      "Average Cross-Validation Accuracy before scaling: 0.5582119537302311\n"
     ]
    }
   ],
   "source": [
    "# Cross-Validation\n",
    "scores = cross_val_score(dT_model, X, y, cv=5, scoring='accuracy')\n",
    "print(f'Cross-Validation Scores: {scores}')\n",
    "print(f'Average Cross-Validation Accuracy before scaling: {scores.mean()}')"
   ]
  },
  {
   "cell_type": "markdown",
   "id": "7338756b-1f31-451d-8db3-3a783afba51c",
   "metadata": {},
   "source": [
    "Model Optimisation"
   ]
  },
  {
   "cell_type": "markdown",
   "id": "eb7e0709-5d5d-404d-88fa-050f270f7e47",
   "metadata": {},
   "source": [
    "Randomly sample a fraction of the dataset. This is particularly useful for faster model training and hyperparameter tuning.\n",
    "\n"
   ]
  },
  {
   "cell_type": "code",
   "execution_count": 16,
   "id": "fee09c30-7571-44c2-8f14-89c31acefef1",
   "metadata": {},
   "outputs": [],
   "source": [
    "# Sample a fraction (e.g., 10%) of the dataset\n",
    "subset = df.sample(frac=0.05, random_state=42)  # 10% of the data\n",
    "\n",
    "# Split the subset into features and target\n",
    "X_subset = subset.drop('readmitted', axis=1)\n",
    "y_subset = subset['readmitted']"
   ]
  },
  {
   "cell_type": "code",
   "execution_count": 17,
   "id": "d4619f35-61c1-44a6-a06c-4fa5719dbb51",
   "metadata": {},
   "outputs": [
    {
     "name": "stdout",
     "output_type": "stream",
     "text": [
      "Sample training dataset shape Counter({0: 2167, 1: 1903})\n",
      "Sample testing dataset shape Counter({0: 552, 1: 466})\n"
     ]
    }
   ],
   "source": [
    "# Split data\n",
    "X_train_sample, X_test_sample, y_train_sample, y_test_sample = train_test_split(X_subset, y_subset, train_size=0.8, random_state=42)\n",
    "print('Sample training dataset shape {}'.format(Counter(y_train_sample)))\n",
    "print('Sample testing dataset shape {}'.format(Counter(y_test_sample)))"
   ]
  },
  {
   "cell_type": "code",
   "execution_count": 18,
   "id": "66034f8a-132e-47b4-9c57-ae0a06adbb5e",
   "metadata": {},
   "outputs": [
    {
     "name": "stdout",
     "output_type": "stream",
     "text": [
      "Fitting 5 folds for each of 10 candidates, totalling 50 fits\n",
      "Best parameters: {'min_samples_split': 5, 'min_samples_leaf': 4, 'max_features': None, 'max_depth': 10, 'criterion': 'entropy'}\n",
      "Best score: 0.5926289926289926\n"
     ]
    }
   ],
   "source": [
    "# Randomized Search for Hyperparameters\n",
    "# Define the parameter grid for DecisionTreeClassifier\n",
    "param_distributions = {\n",
    "    'criterion': ['gini', 'entropy'],\n",
    "    'max_depth': [None, 10, 20, 30, 40, 50],\n",
    "    'min_samples_split': [2, 5, 10],\n",
    "    'min_samples_leaf': [1, 2, 4],\n",
    "    'max_features': [None, 'sqrt', 'log2']\n",
    "}\n",
    "random_search = RandomizedSearchCV(\n",
    "    estimator=dT_model, \n",
    "    param_distributions=param_distributions,\n",
    "    n_iter=10, # Number of parameter settings to sample \n",
    "    cv=5, # Number of folds in cross-validation \n",
    "    scoring='accuracy', # Metric to optimize\n",
    "    verbose=1, # Verbosity level\n",
    "    random_state=42 # For reproducibility\n",
    ")\n",
    "# Fit RandomizedSearchCV\n",
    "random_search.fit(X_train_sample, y_train_sample)\n",
    "# Print best parameters and best score\n",
    "print(f\"Best parameters: {random_search.best_params_}\")\n",
    "print(f\"Best score: {random_search.best_score_}\")"
   ]
  },
  {
   "cell_type": "code",
   "execution_count": 19,
   "id": "d43f4653-59d4-45be-93fa-725a3362eb83",
   "metadata": {},
   "outputs": [
    {
     "name": "stdout",
     "output_type": "stream",
     "text": [
      "Optimised Accuracy: 0.6322098850348826\n",
      "Optimised Confusion Matrix:\n",
      "[[7616 3336]\n",
      " [4150 5252]]\n",
      "Optimised Classification Report:\n",
      "              precision    recall  f1-score   support\n",
      "\n",
      "           0       0.65      0.70      0.67     10952\n",
      "           1       0.61      0.56      0.58      9402\n",
      "\n",
      "    accuracy                           0.63     20354\n",
      "   macro avg       0.63      0.63      0.63     20354\n",
      "weighted avg       0.63      0.63      0.63     20354\n",
      "\n"
     ]
    }
   ],
   "source": [
    "# Train the final model\n",
    "best_model = random_search.best_estimator_\n",
    "best_model.fit(X_train, y_train)\n",
    "\n",
    "# Evaluate the final model\n",
    "y_pred_final = best_model.predict(X_test)\n",
    "accuracy_final = accuracy_score(y_test, y_pred_final)\n",
    "conf_matrix_final = confusion_matrix(y_test, y_pred_final)\n",
    "class_report_final = classification_report(y_test, y_pred_final)\n",
    "\n",
    "print(f'Optimised Accuracy: {accuracy_final}')\n",
    "print('Optimised Confusion Matrix:')\n",
    "print(conf_matrix_final)\n",
    "print('Optimised Classification Report:')\n",
    "print(class_report_final)"
   ]
  },
  {
   "cell_type": "code",
   "execution_count": 58,
   "id": "31ad8bc0-21aa-464d-9f01-883ce2c8affb",
   "metadata": {},
   "outputs": [
    {
     "data": {
      "image/png": "[encoded data removed]",
      "text/plain": [
       "<Figure size 800x600 with 2 Axes>"
      ]
     },
     "metadata": {},
     "output_type": "display_data"
    }
   ],
   "source": [
    "# Plot the confusion matrix\n",
    "plt.figure(figsize=(8, 6))\n",
    "sns.heatmap(conf_matrix_final, fmt='d', cmap='Blues', annot_kws={\"size\": 16},\n",
    "            xticklabels=['Class 0', 'Class 1'], \n",
    "            yticklabels=['Class 0', 'Class 1'])\n",
    "plt.xlabel('Predicted Labels')\n",
    "plt.ylabel('Actual Labels')\n",
    "plt.title('Optimised DT Confusion Matrix')\n",
    "\n",
    "# Add text annotations for TP, TN, FP, FN\n",
    "plt.text(0.5, 0.5, 'TN={}'.format(conf_matrix_final[0, 0]), ha='center', va='center', color='white', fontsize=12)\n",
    "plt.text(1.5, 0.5, 'FP={}'.format(conf_matrix_final[0, 1]), ha='center', va='center', color='black', fontsize=12)\n",
    "plt.text(0.5, 1.5, 'FN={}'.format(conf_matrix_final[1, 0]), ha='center', va='center', color='black', fontsize=12)\n",
    "plt.text(1.5, 1.5, 'TP={}'.format(conf_matrix_final[1, 1]), ha='center', va='center', color='black', fontsize=12)\n",
    "\n",
    "plt.savefig('DTafterHT.png', dpi=300)\n",
    "\n",
    "plt.show()"
   ]
  },
  {
   "cell_type": "code",
   "execution_count": 22,
   "id": "2feffd24-a88e-48b3-9b83-0e63bf109d85",
   "metadata": {},
   "outputs": [
    {
     "name": "stdout",
     "output_type": "stream",
     "text": [
      "Decision Tree Accuracy: 0.6125577282106711\n",
      "Original Confusion Matrix:\n",
      "[[6538 4414]\n",
      " [4332 5070]]\n",
      "Original Classification Report:\n",
      "              precision    recall  f1-score   support\n",
      "\n",
      "           0       0.60      0.60      0.60     10952\n",
      "           1       0.53      0.54      0.54      9402\n",
      "\n",
      "    accuracy                           0.57     20354\n",
      "   macro avg       0.57      0.57      0.57     20354\n",
      "weighted avg       0.57      0.57      0.57     20354\n",
      "\n"
     ]
    }
   ],
   "source": [
    "# compare with original model\n",
    "print(f'Decision Tree Accuracy: {accuracy_dT}')\n",
    "dT_cm = confusion_matrix(y_test, y_pred_dT)\n",
    "print('Original Confusion Matrix:')\n",
    "print(dT_cm)\n",
    "class_report = classification_report(y_test, y_pred_dT)\n",
    "print('Original Classification Report:')\n",
    "print(class_report)"
   ]
  },
  {
   "cell_type": "code",
   "execution_count": 43,
   "id": "535b1c18-9ff9-440e-a371-7047edd21fab",
   "metadata": {},
   "outputs": [
    {
     "data": {
      "image/png": "[encoded data removed]",
      "text/plain": [
       "<Figure size 640x480 with 1 Axes>"
      ]
     },
     "metadata": {},
     "output_type": "display_data"
    }
   ],
   "source": [
    "# Compute ROC curve and AUC for best model\n",
    "fpr, tpr, _ = roc_curve(y_test, best_model.predict_proba(X_test)[:,1])\n",
    "roc_auc = auc(fpr, tpr)\n",
    "\n",
    "# Plot ROC curve\n",
    "plt.figure()\n",
    "plt.plot(fpr, tpr, color='darkorange', lw=2, label='ROC curve (area = %0.2f)' % roc_auc)\n",
    "plt.plot([0, 1], [0, 1], color='navy', lw=2, linestyle='--')\n",
    "plt.xlim([0.0, 1.0])\n",
    "plt.ylim([0.0, 1.05])\n",
    "plt.xlabel('False Positive Rate')\n",
    "plt.ylabel('True Positive Rate')\n",
    "plt.title('DT Receiver Operating Characteristic')\n",
    "plt.legend(loc=\"lower right\")\n",
    "plt.savefig('DT_ROC.png', dpi=300)\n",
    "plt.show()"
   ]
  },
  {
   "cell_type": "code",
   "execution_count": null,
   "id": "64b1e4c3-531b-4993-83ec-23afd5b8cfed",
   "metadata": {},
   "outputs": [],
   "source": []
  }
 ],
 "metadata": {
  "kernelspec": {
   "display_name": "Python 3 (ipykernel)",
   "language": "python",
   "name": "python3"
  },
  "language_info": {
   "codemirror_mode": {
    "name": "ipython",
    "version": 3
   },
   "file_extension": ".py",
   "mimetype": "text/x-python",
   "name": "python",
   "nbconvert_exporter": "python",
   "pygments_lexer": "ipython3",
   "version": "3.11.7"
  }
 },
 "nbformat": 4,
 "nbformat_minor": 5
}
