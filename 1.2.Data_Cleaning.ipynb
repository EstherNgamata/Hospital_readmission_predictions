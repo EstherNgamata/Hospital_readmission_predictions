{
 "cells": [
  {
   "cell_type": "markdown",
   "id": "bd7c4970-aa91-4771-88a8-a7467e53e058",
   "metadata": {},
   "source": [
    "## Data Cleaning\n",
    "---"
   ]
  },
  {
   "cell_type": "markdown",
   "id": "d699281d-f0d3-45a8-b1b7-47e52225d85a",
   "metadata": {},
   "source": [
    "- #### Step 1: import the necessary python packages\n",
    "- #### Step 2: import the dataset\n",
    "- #### Step 3: clean the data in the dataset\n",
    "    - #### a. find all null values\n",
    "    - #### b. impute or drop the missing data\n",
    "    - #### c. check for duplicate values\n",
    "- #### Step 4: store the cleaned data into a file with a readable format"
   ]
  },
  {
   "cell_type": "code",
   "execution_count": 3,
   "id": "510ca3df-e013-4634-bd63-2921fa536a78",
   "metadata": {},
   "outputs": [],
   "source": [
    "import numpy as np\n",
    "import pandas as pd"
   ]
  },
  {
   "cell_type": "code",
   "execution_count": 4,
   "id": "184cb556-29e4-4803-8ca1-699f938c6514",
   "metadata": {},
   "outputs": [
    {
     "name": "stdout",
     "output_type": "stream",
     "text": [
      "API authentication successful.\n"
     ]
    }
   ],
   "source": [
    "from kaggle.api.kaggle_api_extended import KaggleApi\n",
    "\n",
    "# Initialize the Kaggle API\n",
    "api = KaggleApi()\n",
    "\n",
    "# Authenticate using the credentials in kaggle.json\n",
    "try:\n",
    "    api.authenticate()\n",
    "    print(\"API authentication successful.\")\n",
    "except Exception as e:\n",
    "    print(f\"API authentication failed: {e}\")"
   ]
  },
  {
   "cell_type": "code",
   "execution_count": 5,
   "id": "161bb480-8889-4693-b33b-52508bad1877",
   "metadata": {},
   "outputs": [
    {
     "name": "stdout",
     "output_type": "stream",
     "text": [
      "Dataset URL: https://www.kaggle.com/datasets/brandao/Diabetes\n"
     ]
    }
   ],
   "source": [
    "from kaggle.api.kaggle_api_extended import KaggleApi\n",
    "\n",
    "# Initialize Kaggle API\n",
    "api = KaggleApi()\n",
    "api.authenticate()\n",
    "\n",
    "# Define the dataset identifier and download path\n",
    "dataset = 'brandao/Diabetes'  # dataset identifier\n",
    "download_path = 'C:\\\\Users\\\\3sthe\\\\'\n",
    "\n",
    "# Download the dataset\n",
    "api.dataset_download_files(dataset, path=download_path, unzip=True)"
   ]
  },
  {
   "cell_type": "code",
   "execution_count": 6,
   "id": "c598bf1b-973c-4313-b218-859fbad6a4c3",
   "metadata": {},
   "outputs": [
    {
     "data": {
      "text/plain": [
       "(101766, 50)"
      ]
     },
     "execution_count": 6,
     "metadata": {},
     "output_type": "execute_result"
    }
   ],
   "source": [
    "data = pd.read_csv('diabetic_data.csv')\n",
    "data\n",
    "data.shape"
   ]
  },
  {
   "cell_type": "code",
   "execution_count": 7,
   "id": "d39be61f-752a-4422-b34e-b8a1d3420937",
   "metadata": {},
   "outputs": [
    {
     "name": "stdout",
     "output_type": "stream",
     "text": [
      "encounter_id                    0\n",
      "patient_nbr                     0\n",
      "race                         2273\n",
      "gender                          0\n",
      "age                             0\n",
      "weight                      98569\n",
      "admission_type_id               0\n",
      "discharge_disposition_id        0\n",
      "admission_source_id             0\n",
      "time_in_hospital                0\n",
      "payer_code                  40256\n",
      "medical_specialty           49949\n",
      "num_lab_procedures              0\n",
      "num_procedures                  0\n",
      "num_medications                 0\n",
      "number_outpatient               0\n",
      "number_emergency                0\n",
      "number_inpatient                0\n",
      "diag_1                         21\n",
      "diag_2                        358\n",
      "diag_3                       1423\n",
      "number_diagnoses                0\n",
      "max_glu_serum               96420\n",
      "A1Cresult                   84748\n",
      "metformin                       0\n",
      "repaglinide                     0\n",
      "nateglinide                     0\n",
      "chlorpropamide                  0\n",
      "glimepiride                     0\n",
      "acetohexamide                   0\n",
      "glipizide                       0\n",
      "glyburide                       0\n",
      "tolbutamide                     0\n",
      "pioglitazone                    0\n",
      "rosiglitazone                   0\n",
      "acarbose                        0\n",
      "miglitol                        0\n",
      "troglitazone                    0\n",
      "tolazamide                      0\n",
      "examide                         0\n",
      "citoglipton                     0\n",
      "insulin                         0\n",
      "glyburide-metformin             0\n",
      "glipizide-metformin             0\n",
      "glimepiride-pioglitazone        0\n",
      "metformin-rosiglitazone         0\n",
      "metformin-pioglitazone          0\n",
      "change                          0\n",
      "diabetesMed                     0\n",
      "readmitted                      0\n",
      "dtype: int64\n"
     ]
    }
   ],
   "source": [
    "# Replace \"?\" with NaN\n",
    "data.replace(\"?\", np.nan, inplace=True)\n",
    "\n",
    "# print the total number of NaN values\n",
    "print(data.isna().sum())"
   ]
  },
  {
   "cell_type": "markdown",
   "id": "a69db328-8990-4750-b50f-f9affc83210e",
   "metadata": {},
   "source": [
    "#### Insight: We can see from the above outputs that the following variables have missing values:\n",
    "- #### race - 2273; weight - 98569; payer_code - 40256; medical_speciality - 49949; diag_1 - 21; diag_2 - 358; diag_3 - 1423; max_glu_serum - 96420; A1Cresult - 84748"
   ]
  },
  {
   "cell_type": "code",
   "execution_count": 9,
   "id": "8c248e50-2178-4182-88e4-420a5fae7cd8",
   "metadata": {},
   "outputs": [
    {
     "name": "stdout",
     "output_type": "stream",
     "text": [
      "['Caucasian' 'AfricanAmerican' nan 'Other' 'Asian' 'Hispanic']\n"
     ]
    }
   ],
   "source": [
    "# looking into 'race' column\n",
    "print(data['race'].unique())"
   ]
  },
  {
   "cell_type": "code",
   "execution_count": 10,
   "id": "d7b26e55-a7a0-42e9-b6e1-726ec95758c3",
   "metadata": {},
   "outputs": [],
   "source": [
    "# Replace NaN in 'race' with Other\n",
    "data['race'].fillna('Other', inplace=True)"
   ]
  },
  {
   "cell_type": "code",
   "execution_count": 11,
   "id": "2db2a8b5-3932-4e0e-87d9-9e218a76468f",
   "metadata": {},
   "outputs": [
    {
     "name": "stdout",
     "output_type": "stream",
     "text": [
      "['Caucasian' 'AfricanAmerican' 'Other' 'Asian' 'Hispanic']\n"
     ]
    }
   ],
   "source": [
    "print(data['race'].unique())"
   ]
  },
  {
   "cell_type": "code",
   "execution_count": 12,
   "id": "fcc41461-385f-4287-ac0b-51d17ff38797",
   "metadata": {},
   "outputs": [
    {
     "name": "stdout",
     "output_type": "stream",
     "text": [
      "[nan '[75-100)' '[50-75)' '[0-25)' '[100-125)' '[25-50)' '[125-150)'\n",
      " '[175-200)' '[150-175)' '>200']\n"
     ]
    }
   ],
   "source": [
    "# looking into 'weight' column\n",
    "print(data['weight'].unique())"
   ]
  },
  {
   "cell_type": "code",
   "execution_count": 13,
   "id": "0cd8c4e2-5ff8-419a-aa23-14ceca6e86e8",
   "metadata": {},
   "outputs": [
    {
     "name": "stdout",
     "output_type": "stream",
     "text": [
      "Current percentage of NaN values in weight: 97 %\n"
     ]
    }
   ],
   "source": [
    "# calculate the percentage of 'nan' values in the weight column\n",
    "nan_weight_percentage = data['weight'].isna().mean() * 100\n",
    "print('Current percentage of NaN values in weight:', round(nan_weight_percentage), '%')"
   ]
  },
  {
   "cell_type": "code",
   "execution_count": 14,
   "id": "e6280250-a403-42ed-96fa-1df4bc79bdd2",
   "metadata": {},
   "outputs": [],
   "source": [
    "# replace 'nan' with 0\n",
    "\n",
    "# convert string to integer in weight column using median values for each weight group\n",
    "# create an age map respectively\n",
    "weight_map = {'[75-100)': 88, '[50-75)': 64, '[0-25)': 14, '[100-125)': 114, '[25-50)': 39, '[125-150)': 139, '[175-200)': 189, '[150-175)': 164, '>200': 200}\n",
    "# replace string in age column with median integer\n",
    "data['weight'] = data['weight'].replace(weight_map)"
   ]
  },
  {
   "cell_type": "code",
   "execution_count": 15,
   "id": "14d3e1f9-45ad-49fe-b2e9-4c2d87cab166",
   "metadata": {},
   "outputs": [
    {
     "name": "stdout",
     "output_type": "stream",
     "text": [
      "[ nan  88.  64.  14. 114.  39. 139. 189. 164. 200.]\n"
     ]
    }
   ],
   "source": [
    "# looking into 'weight' column\n",
    "print(data['weight'].unique())"
   ]
  },
  {
   "cell_type": "code",
   "execution_count": 16,
   "id": "a6802da7-6198-453f-b9e6-cfa8c559e8cf",
   "metadata": {},
   "outputs": [
    {
     "name": "stdout",
     "output_type": "stream",
     "text": [
      "Updated percentage of NaN values in weight: 0.0 %\n"
     ]
    }
   ],
   "source": [
    "# Impute missing values with the most frequent value\n",
    "mode_weight = data['weight'].mode()[0]\n",
    "data['weight'].fillna(mode_weight, inplace=True)\n",
    "\n",
    "# check if there are anymore nan values\n",
    "# calculate the percentage of 'nan' values in the medical_specialty column\n",
    "nan_percentage_mode_weight = data['weight'].isna().mean() * 100\n",
    "print('Updated percentage of NaN values in weight:', (nan_percentage_mode_weight), '%')"
   ]
  },
  {
   "cell_type": "code",
   "execution_count": 17,
   "id": "91e0da46-a0a6-4ac4-abae-3eae702b69e2",
   "metadata": {},
   "outputs": [
    {
     "data": {
      "text/plain": [
       "(101766, 50)"
      ]
     },
     "execution_count": 17,
     "metadata": {},
     "output_type": "execute_result"
    }
   ],
   "source": [
    "data.shape"
   ]
  },
  {
   "cell_type": "code",
   "execution_count": 18,
   "id": "6830650a-f1af-4104-945f-6f01623da80e",
   "metadata": {},
   "outputs": [
    {
     "name": "stdout",
     "output_type": "stream",
     "text": [
      "Updated percentage of NaN values in medical_specialty: 0.0 %\n"
     ]
    }
   ],
   "source": [
    "# Impute missing values with the most frequent value\n",
    "most_frequent_payer_code = data['medical_specialty'].mode()[0]\n",
    "data['medical_specialty'].fillna(most_frequent_payer_code, inplace=True)\n",
    "\n",
    "# check if there are anymore nan values\n",
    "# calculate the percentage of 'nan' values in the medical_specialty column\n",
    "nan_percentage_medSpecialty = data['medical_specialty'].isna().mean() * 100\n",
    "print('Updated percentage of NaN values in medical_specialty:', (nan_percentage_medSpecialty), '%')"
   ]
  },
  {
   "cell_type": "code",
   "execution_count": 19,
   "id": "93335ad0-b544-411a-8b8b-a4a8f1b8341f",
   "metadata": {},
   "outputs": [
    {
     "name": "stdout",
     "output_type": "stream",
     "text": [
      "[nan '>300' 'Norm' '>200']\n"
     ]
    }
   ],
   "source": [
    "print(data['max_glu_serum'].unique())"
   ]
  },
  {
   "cell_type": "code",
   "execution_count": 20,
   "id": "71ba1950-1ec4-414d-a448-d51c7aa3e14a",
   "metadata": {},
   "outputs": [],
   "source": [
    "data['max_glu_serum'] = data['max_glu_serum'].replace('>300', 300)\n",
    "data['max_glu_serum'] = data['max_glu_serum'].replace('>200', 200)\n",
    "data['max_glu_serum'] = data['max_glu_serum'].replace('Norm', 0)"
   ]
  },
  {
   "cell_type": "code",
   "execution_count": 21,
   "id": "53da35a8-d6d5-483c-ab20-2920085f3680",
   "metadata": {},
   "outputs": [
    {
     "name": "stdout",
     "output_type": "stream",
     "text": [
      "[ nan 300.   0. 200.]\n"
     ]
    }
   ],
   "source": [
    "print(data['max_glu_serum'].unique())"
   ]
  },
  {
   "cell_type": "code",
   "execution_count": 22,
   "id": "bc8dbefd-90f2-4654-aa94-00f361e7165b",
   "metadata": {},
   "outputs": [
    {
     "name": "stdout",
     "output_type": "stream",
     "text": [
      "96420\n"
     ]
    }
   ],
   "source": [
    "print(data['max_glu_serum'].isna().sum())"
   ]
  },
  {
   "cell_type": "code",
   "execution_count": 23,
   "id": "3ca8139a-0725-4c67-b8fc-4f97b48a157e",
   "metadata": {},
   "outputs": [
    {
     "name": "stdout",
     "output_type": "stream",
     "text": [
      "max_glu_serum\n",
      "0.0      2597\n",
      "200.0    1485\n",
      "300.0    1264\n",
      "Name: count, dtype: int64\n"
     ]
    }
   ],
   "source": [
    "print(data['max_glu_serum'].value_counts())"
   ]
  },
  {
   "cell_type": "code",
   "execution_count": 24,
   "id": "406cd276-5334-46ad-8dc9-e4796b367ece",
   "metadata": {},
   "outputs": [
    {
     "name": "stdout",
     "output_type": "stream",
     "text": [
      "Updated percentage of NaN values in max_glu_serum: 0.0 %\n"
     ]
    }
   ],
   "source": [
    "# Impute missing values with the most frequent value\n",
    "most_frequent_max_glu_serum = data['max_glu_serum'].mode()[0]\n",
    "data['max_glu_serum'].fillna(most_frequent_max_glu_serum, inplace=True)\n",
    "\n",
    "# check if there are anymore nan values\n",
    "# calculate the percentage of 'nan' values in the max_glu_serum column\n",
    "nan_percentage_max_glu_serum = data['max_glu_serum'].isna().mean() * 100\n",
    "print('Updated percentage of NaN values in max_glu_serum:', (nan_percentage_max_glu_serum), '%')"
   ]
  },
  {
   "cell_type": "code",
   "execution_count": 25,
   "id": "7c5dc013-2f86-42ae-98bb-7c92112a61a8",
   "metadata": {},
   "outputs": [
    {
     "name": "stdout",
     "output_type": "stream",
     "text": [
      "max_glu_serum\n",
      "0.0      99017\n",
      "200.0     1485\n",
      "300.0     1264\n",
      "Name: count, dtype: int64\n"
     ]
    }
   ],
   "source": [
    "print(data['max_glu_serum'].value_counts())"
   ]
  },
  {
   "cell_type": "code",
   "execution_count": 26,
   "id": "3b56bd3c-5784-4642-ad1a-75216fde4168",
   "metadata": {},
   "outputs": [],
   "source": [
    "# data.shape"
   ]
  },
  {
   "cell_type": "code",
   "execution_count": 27,
   "id": "274630c3-c4ca-4fbc-a07c-b5c699dd1c12",
   "metadata": {},
   "outputs": [
    {
     "name": "stdout",
     "output_type": "stream",
     "text": [
      "[nan '>7' '>8' 'Norm']\n"
     ]
    }
   ],
   "source": [
    "# looking in to A1Cresult column\n",
    "print(data['A1Cresult'].unique())"
   ]
  },
  {
   "cell_type": "code",
   "execution_count": 28,
   "id": "7b986be7-91f8-4069-9292-d6a671fd7686",
   "metadata": {},
   "outputs": [
    {
     "name": "stdout",
     "output_type": "stream",
     "text": [
      "84748\n"
     ]
    }
   ],
   "source": [
    "print(data['A1Cresult'].isna().sum())"
   ]
  },
  {
   "cell_type": "code",
   "execution_count": 29,
   "id": "6d0adcab-a7dd-4446-943d-53194ceab7ad",
   "metadata": {},
   "outputs": [
    {
     "name": "stdout",
     "output_type": "stream",
     "text": [
      "A1Cresult\n",
      ">8      8216\n",
      "Norm    4990\n",
      ">7      3812\n",
      "Name: count, dtype: int64\n"
     ]
    }
   ],
   "source": [
    "print(data['A1Cresult'].value_counts())"
   ]
  },
  {
   "cell_type": "code",
   "execution_count": 30,
   "id": "aaeeb3b4-1e0b-425f-ae65-d0c80615680b",
   "metadata": {},
   "outputs": [],
   "source": [
    "data['A1Cresult'] = data['A1Cresult'].replace('>8', 8)\n",
    "data['A1Cresult'] = data['A1Cresult'].replace('>7', 7)\n",
    "data['A1Cresult'] = data['A1Cresult'].replace('Norm', 0)"
   ]
  },
  {
   "cell_type": "code",
   "execution_count": 31,
   "id": "3e911ad3-1625-4cfb-b6f3-e241176aebb5",
   "metadata": {},
   "outputs": [
    {
     "name": "stdout",
     "output_type": "stream",
     "text": [
      "A1Cresult\n",
      "8.0    8216\n",
      "0.0    4990\n",
      "7.0    3812\n",
      "Name: count, dtype: int64\n"
     ]
    }
   ],
   "source": [
    "print(data['A1Cresult'].value_counts())"
   ]
  },
  {
   "cell_type": "code",
   "execution_count": 32,
   "id": "9ed27a1f-a981-40b8-b4d4-7bed30b3f81a",
   "metadata": {},
   "outputs": [
    {
     "name": "stdout",
     "output_type": "stream",
     "text": [
      "Updated percentage of NaN values in A1Cresult: 0.0 %\n"
     ]
    }
   ],
   "source": [
    "# Impute missing values with the most frequent value\n",
    "most_frequent_A1Cresult = data['A1Cresult'].mode()[0]\n",
    "data['A1Cresult'].fillna(most_frequent_A1Cresult, inplace=True)\n",
    "\n",
    "# check if there are anymore nan values\n",
    "# calculate the percentage of 'nan' values in the max_glu_serum column\n",
    "nan_percentage_A1Cresult = data['A1Cresult'].isna().mean() * 100\n",
    "print('Updated percentage of NaN values in A1Cresult:', (nan_percentage_A1Cresult), '%')"
   ]
  },
  {
   "cell_type": "code",
   "execution_count": 33,
   "id": "d2ad0fb5-ab80-4465-922c-da22c8730922",
   "metadata": {},
   "outputs": [
    {
     "name": "stdout",
     "output_type": "stream",
     "text": [
      "A1Cresult\n",
      "8.0    92964\n",
      "0.0     4990\n",
      "7.0     3812\n",
      "Name: count, dtype: int64\n"
     ]
    }
   ],
   "source": [
    "print(data['A1Cresult'].value_counts())"
   ]
  },
  {
   "cell_type": "code",
   "execution_count": 34,
   "id": "d0d20252-9b2d-4eaa-b7cc-c5cd1cb3b547",
   "metadata": {},
   "outputs": [],
   "source": [
    "# print the total number of NaN values\n",
    "# print(data.isna().sum())"
   ]
  },
  {
   "cell_type": "code",
   "execution_count": 35,
   "id": "bc45614f-bd9b-4855-a068-1cc93ff6eab7",
   "metadata": {},
   "outputs": [
    {
     "name": "stdout",
     "output_type": "stream",
     "text": [
      "payer_code\n",
      "MC    32439\n",
      "HM     6274\n",
      "SP     5007\n",
      "BC     4655\n",
      "MD     3532\n",
      "CP     2533\n",
      "UN     2448\n",
      "CM     1937\n",
      "OG     1033\n",
      "PO      592\n",
      "DM      549\n",
      "CH      146\n",
      "WC      135\n",
      "OT       95\n",
      "MP       79\n",
      "SI       55\n",
      "FR        1\n",
      "Name: count, dtype: int64\n"
     ]
    }
   ],
   "source": [
    "# looking into payer code\n",
    "print(data['payer_code'].value_counts())"
   ]
  },
  {
   "cell_type": "code",
   "execution_count": 36,
   "id": "29cf4a03-8da2-4ff6-8c1e-0cae77655adf",
   "metadata": {},
   "outputs": [
    {
     "name": "stdout",
     "output_type": "stream",
     "text": [
      "40256\n"
     ]
    }
   ],
   "source": [
    "print(data['payer_code'].isna().sum())"
   ]
  },
  {
   "cell_type": "code",
   "execution_count": 37,
   "id": "016bbfec-1f6a-4ca3-8806-c4caf31dacc6",
   "metadata": {},
   "outputs": [
    {
     "name": "stdout",
     "output_type": "stream",
     "text": [
      "Updated percentage of NaN values in payer_code: 0.0 %\n"
     ]
    }
   ],
   "source": [
    "# fill nan values in payer code with mode value\n",
    "# Calculate the most frequent value (mode) for imputation\n",
    "mode_payer_code = data['payer_code'].mode()[0]\n",
    "\n",
    "# Impute missing values with the mode value\n",
    "data['payer_code'].fillna(mode_payer_code, inplace=True)\n",
    "\n",
    "# Check if there are any remaining NaN values\n",
    "nan_percentage_payer_code = data['payer_code'].isna().mean() * 100\n",
    "print('Updated percentage of NaN values in payer_code:', nan_percentage_payer_code, '%')"
   ]
  },
  {
   "cell_type": "code",
   "execution_count": 38,
   "id": "7ea2464f-cda2-4d88-a19a-040a35f4f0e2",
   "metadata": {},
   "outputs": [],
   "source": [
    "# print(data['payer_code'].isna().sum())"
   ]
  },
  {
   "cell_type": "code",
   "execution_count": 39,
   "id": "9d75a334-a33c-4aac-9413-4944d0476e9a",
   "metadata": {},
   "outputs": [
    {
     "name": "stdout",
     "output_type": "stream",
     "text": [
      "encounter_id                   0\n",
      "patient_nbr                    0\n",
      "race                           0\n",
      "gender                         0\n",
      "age                            0\n",
      "weight                         0\n",
      "admission_type_id              0\n",
      "discharge_disposition_id       0\n",
      "admission_source_id            0\n",
      "time_in_hospital               0\n",
      "payer_code                     0\n",
      "medical_specialty              0\n",
      "num_lab_procedures             0\n",
      "num_procedures                 0\n",
      "num_medications                0\n",
      "number_outpatient              0\n",
      "number_emergency               0\n",
      "number_inpatient               0\n",
      "diag_1                        21\n",
      "diag_2                       358\n",
      "diag_3                      1423\n",
      "number_diagnoses               0\n",
      "max_glu_serum                  0\n",
      "A1Cresult                      0\n",
      "metformin                      0\n",
      "repaglinide                    0\n",
      "nateglinide                    0\n",
      "chlorpropamide                 0\n",
      "glimepiride                    0\n",
      "acetohexamide                  0\n",
      "glipizide                      0\n",
      "glyburide                      0\n",
      "tolbutamide                    0\n",
      "pioglitazone                   0\n",
      "rosiglitazone                  0\n",
      "acarbose                       0\n",
      "miglitol                       0\n",
      "troglitazone                   0\n",
      "tolazamide                     0\n",
      "examide                        0\n",
      "citoglipton                    0\n",
      "insulin                        0\n",
      "glyburide-metformin            0\n",
      "glipizide-metformin            0\n",
      "glimepiride-pioglitazone       0\n",
      "metformin-rosiglitazone        0\n",
      "metformin-pioglitazone         0\n",
      "change                         0\n",
      "diabetesMed                    0\n",
      "readmitted                     0\n",
      "dtype: int64\n"
     ]
    }
   ],
   "source": [
    "print(data.isna().sum())"
   ]
  },
  {
   "cell_type": "code",
   "execution_count": 40,
   "id": "d9393055-a0d7-4a3f-8454-3c11fb6c9891",
   "metadata": {},
   "outputs": [
    {
     "name": "stdout",
     "output_type": "stream",
     "text": [
      "Updated percentage of NaN values in diag_1: 0.0 %\n"
     ]
    }
   ],
   "source": [
    "# looking into diagnoses columns\n",
    "# fill nan values in payer code with mode value\n",
    "# Calculate the most frequent value (mode) for imputation\n",
    "mode_diag_1 = data['diag_1'].mode()[0]\n",
    "\n",
    "# Impute missing values with the mode value\n",
    "data['diag_1'].fillna(mode_diag_1, inplace=True)\n",
    "\n",
    "# Check if there are any remaining NaN values\n",
    "nan_percentage_diag_1 = data['diag_1'].isna().mean() * 100\n",
    "print('Updated percentage of NaN values in diag_1:', nan_percentage_diag_1, '%')"
   ]
  },
  {
   "cell_type": "code",
   "execution_count": 41,
   "id": "870f15ab-0c7e-4a69-95ea-7a767cabe2d7",
   "metadata": {},
   "outputs": [],
   "source": [
    "# print(data['diag_1'].isna().sum())"
   ]
  },
  {
   "cell_type": "code",
   "execution_count": 42,
   "id": "52f0bf57-caab-485e-a1eb-82f077598718",
   "metadata": {},
   "outputs": [
    {
     "name": "stdout",
     "output_type": "stream",
     "text": [
      "Updated percentage of NaN values in diag_2: 0.0 %\n"
     ]
    }
   ],
   "source": [
    "# Calculate the most frequent value (mode) for imputation\n",
    "mode_diag_2 = data['diag_2'].mode()[0]\n",
    "\n",
    "# Impute missing values with the mode value\n",
    "data['diag_2'].fillna(mode_diag_2, inplace=True)\n",
    "\n",
    "# Check if there are any remaining NaN values\n",
    "nan_percentage_diag_2 = data['diag_2'].isna().mean() * 100\n",
    "print('Updated percentage of NaN values in diag_2:', nan_percentage_diag_2, '%')"
   ]
  },
  {
   "cell_type": "code",
   "execution_count": 43,
   "id": "dac3bf34-6d49-4c5d-8046-03fb2c3be67a",
   "metadata": {},
   "outputs": [
    {
     "name": "stdout",
     "output_type": "stream",
     "text": [
      "Updated percentage of NaN values in diag_3: 0.0 %\n"
     ]
    }
   ],
   "source": [
    "# Calculate the most frequent value (mode) for imputation\n",
    "mode_diag_3 = data['diag_3'].mode()[0]\n",
    "\n",
    "# Impute missing values with the mode value\n",
    "data['diag_3'].fillna(mode_diag_3, inplace=True)\n",
    "\n",
    "# Check if there are any remaining NaN values\n",
    "nan_percentage_diag_3 = data['diag_3'].isna().mean() * 100\n",
    "print('Updated percentage of NaN values in diag_3:', nan_percentage_diag_3, '%')"
   ]
  },
  {
   "cell_type": "code",
   "execution_count": 44,
   "id": "185e152c-b3b0-4ab2-b1c5-e75bf606b68e",
   "metadata": {},
   "outputs": [
    {
     "name": "stdout",
     "output_type": "stream",
     "text": [
      "encounter_id                0\n",
      "patient_nbr                 0\n",
      "race                        0\n",
      "gender                      0\n",
      "age                         0\n",
      "weight                      0\n",
      "admission_type_id           0\n",
      "discharge_disposition_id    0\n",
      "admission_source_id         0\n",
      "time_in_hospital            0\n",
      "payer_code                  0\n",
      "medical_specialty           0\n",
      "num_lab_procedures          0\n",
      "num_procedures              0\n",
      "num_medications             0\n",
      "number_outpatient           0\n",
      "number_emergency            0\n",
      "number_inpatient            0\n",
      "diag_1                      0\n",
      "diag_2                      0\n",
      "diag_3                      0\n",
      "number_diagnoses            0\n",
      "max_glu_serum               0\n",
      "A1Cresult                   0\n",
      "metformin                   0\n",
      "repaglinide                 0\n",
      "nateglinide                 0\n",
      "chlorpropamide              0\n",
      "glimepiride                 0\n",
      "acetohexamide               0\n",
      "glipizide                   0\n",
      "glyburide                   0\n",
      "tolbutamide                 0\n",
      "pioglitazone                0\n",
      "rosiglitazone               0\n",
      "acarbose                    0\n",
      "miglitol                    0\n",
      "troglitazone                0\n",
      "tolazamide                  0\n",
      "examide                     0\n",
      "citoglipton                 0\n",
      "insulin                     0\n",
      "glyburide-metformin         0\n",
      "glipizide-metformin         0\n",
      "glimepiride-pioglitazone    0\n",
      "metformin-rosiglitazone     0\n",
      "metformin-pioglitazone      0\n",
      "change                      0\n",
      "diabetesMed                 0\n",
      "readmitted                  0\n",
      "dtype: int64\n"
     ]
    }
   ],
   "source": [
    "print(data.isna().sum())"
   ]
  },
  {
   "cell_type": "code",
   "execution_count": 90,
   "id": "54e4e901-3dea-4dfa-984e-d1c52850d597",
   "metadata": {},
   "outputs": [
    {
     "name": "stdout",
     "output_type": "stream",
     "text": [
      "Duplicate rows based on column1:\n",
      " Empty DataFrame\n",
      "Columns: [encounter_id, patient_nbr, race, gender, age, weight, admission_type_id, discharge_disposition_id, admission_source_id, time_in_hospital, payer_code, medical_specialty, num_lab_procedures, num_procedures, num_medications, number_outpatient, number_emergency, number_inpatient, diag_1, diag_2, diag_3, number_diagnoses, max_glu_serum, A1Cresult, metformin, repaglinide, nateglinide, chlorpropamide, glimepiride, acetohexamide, glipizide, glyburide, tolbutamide, pioglitazone, rosiglitazone, acarbose, miglitol, troglitazone, tolazamide, examide, citoglipton, insulin, glyburide-metformin, glipizide-metformin, glimepiride-pioglitazone, metformin-rosiglitazone, metformin-pioglitazone, change, diabetesMed, readmitted]\n",
      "Index: []\n",
      "\n",
      "[0 rows x 50 columns]\n"
     ]
    }
   ],
   "source": [
    "# Check for duplicates in specific columns\n",
    "duplicates_column = data.duplicated(subset=['encounter_id'])\n",
    "print('Duplicate rows based on column1:\\n', data[duplicates_column])"
   ]
  },
  {
   "cell_type": "code",
   "execution_count": 45,
   "id": "e35c80f8-d046-4bea-aae8-45b7137b5c02",
   "metadata": {},
   "outputs": [],
   "source": [
    "data.to_csv('diabetes_cleaned.csv', index=False)"
   ]
  }
 ],
 "metadata": {
  "kernelspec": {
   "display_name": "Python 3 (ipykernel)",
   "language": "python",
   "name": "python3"
  },
  "language_info": {
   "codemirror_mode": {
    "name": "ipython",
    "version": 3
   },
   "file_extension": ".py",
   "mimetype": "text/x-python",
   "name": "python",
   "nbconvert_exporter": "python",
   "pygments_lexer": "ipython3",
   "version": "3.11.7"
  }
 },
 "nbformat": 4,
 "nbformat_minor": 5
}
